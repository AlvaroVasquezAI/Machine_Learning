{
 "cells": [
  {
   "cell_type": "markdown",
   "metadata": {},
   "source": [
    "<h1 style='text-align: center'><strong>DBSCAN Clustering</strong></h1>\n",
    "<h3 style='text-align: center'>Machine learning</h3>\n",
    "<h5 style='text-align: center'><a href='https://github.com/AlvaroVasquezAI'>Álvaro Vásquez AI</a></h5>"
   ]
  },
  {
   "cell_type": "markdown",
   "metadata": {},
   "source": [
    "<div style='text-align: center'>\n",
    "    <a href='https://github.com/AlvaroVasquezAI'><img src='https://img.icons8.com/color/48/000000/github--v1.png'/></a>\n",
    "    <a href='https://www.linkedin.com/in/%C3%A1lvaro-garc%C3%ADa-v%C3%A1squez-8a2a001bb/'><img src='https://img.icons8.com/color/48/000000/linkedin.png'/></a>\n",
    "    <a href='https://www.instagram.com/alvarovasquez.ai'><img src='https://img.icons8.com/color/48/000000/instagram-new--v1.png'/></a>\n",
    "    <a href='https://twitter.com/alvarovasquezai'><img src='https://img.icons8.com/color/48/000000/twitter--v1.png'/></a>\n",
    "    <a href='https://www.youtube.com/channel/UCd8GEklq1EbrxGQYK0CXDTA'><img src='https://img.icons8.com/color/48/000000/youtube-play.png'/></a>\n",
    "    <a href='mailto: agarciav2102@alumno.ipn.mx'><img src='https://img.icons8.com/color/48/000000/email.png'/></a>\n",
    "</div>"
   ]
  },
  {
   "cell_type": "markdown",
   "metadata": {},
   "source": [
    "<h4 style='text-align: center'>Using DBSCAN Clustering</h4>\n",
    "\n",
    "<div>\n",
    "    <h3><strong>Table of contents</strong></h3>\n",
    "    <ol>\n",
    "        <li><a href=\"#Introduction\">Introduction</a></li>\n",
    "        <li><a href=\"#Libraries\">Libraries</a></li>\n",
    "        <li><a href=\"#Dataset\">Dataset</a></li>\n",
    "        <li><a href=\"#DBSCAN-Clustering\">DBSCAN Clustering</a></li>\n",
    "        <li><a href=\"#Evaluation\">Evaluation</a></li>\n",
    "        <li><a href=\"#Conclusion\">Conclusion</a></li>\n",
    "    </ol>\n",
    "</div>"
   ]
  },
  {
   "cell_type": "markdown",
   "metadata": {},
   "source": [
    "<h2 style='text-align: center' id='Introduction'><strong>1. Introduction</strong></h2>\n",
    "DBSCAN (Density-Based Spatial Clustering of Applications with Noise) is a clustering algorithm that groups together closely packed points, while identifying points in sparse regions as outliers.\n",
    "It is especially useful for finding clusters of arbitrary shapes, and can handle noise well, making it suitable for real-world datasets.\n"
   ]
  },
  {
   "cell_type": "markdown",
   "metadata": {},
   "source": [
    "<h2 style='text-align: center' id='Libraries'><strong>2. Libraries</strong></h2>"
   ]
  },
  {
   "cell_type": "code",
   "execution_count": 1,
   "metadata": {},
   "outputs": [],
   "source": [
    "import numpy as np\n",
    "import pandas as pd\n",
    "import matplotlib.pyplot as plt\n",
    "from sklearn.cluster import DBSCAN"
   ]
  },
  {
   "cell_type": "markdown",
   "metadata": {},
   "source": [
    "- **numpy**: For numerical computations and data manipulation.\n",
    "- **pandas**: To structure and organize the data.\n",
    "- **matplotlib.pyplot**: For visualizing the dataset and clustering results.\n",
    "- **DBSCAN from sklearn.cluster**: To perform the DBSCAN clustering."
   ]
  },
  {
   "cell_type": "markdown",
   "metadata": {},
   "source": [
    "<h2 style='text-align: center' id='Dataset'><strong>3. Dataset</strong></h2>\n"
   ]
  },
  {
   "cell_type": "code",
   "execution_count": null,
   "metadata": {},
   "outputs": [],
   "source": [
    "# Generating data points forming concentric spirals\n",
    "t = np.linspace(0, 2 * np.pi, 100)\n",
    "\n",
    "# Outer spiral\n",
    "x1 = 6 * np.cos(t)\n",
    "y1 = 6 * np.sin(t)\n",
    "\n",
    "# Intermediate spiral\n",
    "x2 = 3 * np.cos(t)\n",
    "y2 = 3 * np.sin(t)\n",
    "\n",
    "# Central spiral\n",
    "x3 = 1.5 * np.cos(t)\n",
    "y3 = 1.5 * np.sin(t)\n",
    "\n",
    "# Combine the spirals\n",
    "x = np.concatenate([x1, x2, x3])\n",
    "y = np.concatenate([y1, y2, y3])\n",
    "\n",
    "# Add random noise points\n",
    "x_noise = np.random.uniform(low=-10, high=10, size=30)  # Noise points match\n",
    "y_noise = np.random.uniform(low=-10, high=10, size=30)\n",
    "\n",
    "# Combine data and noise\n",
    "x = np.concatenate([x, x_noise])\n",
    "y = np.concatenate([y, y_noise])\n",
    "\n",
    "# Final dataset\n",
    "data = np.vstack((x, y)).T\n",
    "\n",
    "# Plot the data points\n",
    "plt.figure(figsize=(7, 7))\n",
    "plt.scatter(data[:, 0], data[:, 1], c='b', s=100, edgecolor='k')\n",
    "plt.title('Data Points')\n",
    "plt.xlabel('x')\n",
    "plt.ylabel('y')\n",
    "plt.show()\n"
   ]
  },
  {
   "cell_type": "markdown",
   "metadata": {},
   "source": [
    "- **t = np.linspace(0, 2 * np.pi, 100)**: Generates 100 points between 0 and 2π to define the spirals.\n",
    "- **x1, y1**: Coordinates for the outer spiral using cosine and sine functions, with a radius of 6.\n",
    "- **x2, y2**: Coordinates for the intermediate spiral, with a smaller radius of 3.\n",
    "- **x3, y3**: Coordinates for the central spiral with the smallest radius of 1.5.\n",
    "- **x = np.concatenate([x1, x2, x3])**: Combines all the x-coordinates from the three spirals into a single array.\n",
    "- **y = np.concatenate([y1, y2, y3])**: Combines all the y-coordinates from the three spirals into a single array.\n",
    "- **x_noise, y_noise**: Randomly generated points representing noise to add outliers to the dataset.\n",
    "- **x = np.concatenate([x, x_noise])** / **y = np.concatenate([y, y_noise])**: Combines the spiral data points with the noise points to create the final dataset.\n",
    "- **data = np.vstack((x, y)).T**: Stacks the x and y values together as columns to form the final 2D dataset.\n",
    "- **plt.scatter(data[:, 0], data[:, 1], c='b', s=100, edgecolor='k')**: Plots the data points as blue circles, each with a size of 100 and black edges.\n",
    "- **plt.title('Data Points')**: Sets the title of the plot.\n",
    "- **plt.xlabel('x') / plt.ylabel('y')**: Labels the x and y axes for better understanding.\n",
    "- **plt.show()**: Displays the plot of the generated data points, showing the three spirals and noise."
   ]
  },
  {
   "cell_type": "markdown",
   "metadata": {},
   "source": [
    "<h2 style='text-align: center' id='DBSCAN-Clustering'><strong>4. DBSCAN Clustering</strong></h2>\n",
    "DBSCAN works by defining a region (using the `eps` parameter) around each point and considering a minimum number of points (`min_samples`) in that region to form a cluster. Points that don’t belong to any dense region are labeled as outliers.\n"
   ]
  },
  {
   "cell_type": "code",
   "execution_count": null,
   "metadata": {},
   "outputs": [],
   "source": [
    "# Apply DBSCAN clustering\n",
    "dbscan = DBSCAN(eps=1, min_samples=5)\n",
    "dbscan.fit(data)\n",
    "\n",
    "# Plot DBSCAN results\n",
    "labels = dbscan.labels_\n",
    "\n",
    "plt.figure(figsize=(7, 7))\n",
    "unique_labels = set(labels)\n",
    "colors = [plt.cm.Spectral(each) for each in np.linspace(0, 1, len(unique_labels))]\n",
    "\n",
    "for k, col in zip(unique_labels, colors):\n",
    "    if k == -1:\n",
    "        col = [0, 0, 0, 1]  # Black color for noise.\n",
    "\n",
    "    class_member_mask = (labels == k)\n",
    "\n",
    "    xy = data[class_member_mask]\n",
    "    plt.plot(xy[:, 0], xy[:, 1], 'o', markerfacecolor=tuple(col), markeredgecolor='k', markersize=14)\n",
    "\n",
    "plt.title('DBSCAN Clustering')\n",
    "plt.xlabel('x')\n",
    "plt.ylabel('y')\n",
    "plt.show()"
   ]
  },
  {
   "cell_type": "markdown",
   "metadata": {},
   "source": [
    "- **dbscan = DBSCAN(eps=1, min_samples=5)**: Initializes the DBSCAN model with epsilon distance set to 1 and minimum samples per cluster set to 5.\n",
    "- **dbscan.fit(data)**: Fits the DBSCAN model to the dataset.\n",
    "- **labels = dbscan.labels_**: Retrieves the cluster labels for each data point. Noise points are labeled as -1.\n",
    "- **plt.plot(xy[:, 0], xy[:, 1], 'o', markerfacecolor=tuple(col), markeredgecolor='k', markersize=14)**: Plots the clustered points with different colors for each cluster.\n",
    "- **plt.title('DBSCAN Clustering')**: Sets the title of the plot.\n",
    "- **plt.xlabel('x') / plt.ylabel('y')**: Labels the x and y axes.\n",
    "- **plt.show()**: Displays the DBSCAN clustering results, with noise points in black and clusters in various colors.\n"
   ]
  },
  {
   "cell_type": "markdown",
   "metadata": {},
   "source": [
    "<h2 style='text-align: center' id='Evaluation'><strong>5. Evaluation</strong></h2>\n",
    "We will visualize the clusters created by DBSCAN. Points labeled as `-1` are considered outliers, and the rest are clustered."
   ]
  },
  {
   "cell_type": "code",
   "execution_count": null,
   "metadata": {},
   "outputs": [],
   "source": [
    "# Number of clusters in DBSCAN excluding noise\n",
    "n_clusters = len(set(labels)) - (1 if -1 in labels else 0)\n",
    "n_noise = list(labels).count(-1)\n",
    "\n",
    "print(f'Estimated number of clusters: {n_clusters}')\n",
    "print(f'Estimated number of noise points: {n_noise}')"
   ]
  },
  {
   "cell_type": "markdown",
   "metadata": {},
   "source": [
    "- **n_clusters = len(set(labels)) - (1 if -1 in labels else 0)**: Calculates the number of clusters identified by DBSCAN, excluding noise points.\n",
    "- **n_noise = list(labels).count(-1)**: Counts the number of noise points identified by DBSCAN.\n",
    "- **print(f'Estimated number of clusters: {n_clusters}')**: Displays the estimated number of clusters.\n",
    "- **print(f'Estimated number of noise points: {n_noise}')**: Displays the estimated number of noise points."
   ]
  },
  {
   "cell_type": "markdown",
   "metadata": {},
   "source": [
    "<h2 style='text-align: center' id='Conclusion'><strong>6. Conclusion</strong></h2>\n",
    "\n",
    "DBSCAN is an effective clustering algorithm that can identify clusters of arbitrary shapes and handle noise well. It is particularly useful for real-world datasets where the data may not be uniformly distributed. By setting appropriate values for the `eps` and `min_samples` parameters, DBSCAN can accurately cluster data points and identify outliers."
   ]
  }
 ],
 "metadata": {
  "kernelspec": {
   "display_name": "ArtificialIntelligence",
   "language": "python",
   "name": "python3"
  },
  "language_info": {
   "codemirror_mode": {
    "name": "ipython",
    "version": 3
   },
   "file_extension": ".py",
   "mimetype": "text/x-python",
   "name": "python",
   "nbconvert_exporter": "python",
   "pygments_lexer": "ipython3",
   "version": "3.11.8"
  }
 },
 "nbformat": 4,
 "nbformat_minor": 2
}
